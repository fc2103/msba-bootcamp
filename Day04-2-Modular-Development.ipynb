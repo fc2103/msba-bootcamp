{
  "cells": [
    {
      "cell_type": "markdown",
      "metadata": {
        "id": "nUHV_T4iPN_l"
      },
      "source": [
        "# Day 4: Modular Development\n",
        "## Lecture Notebook\n",
        "\n",
        "We practice organizing code into modules and using imports to keep business logic clean and reusable.\n",
        "\n",
        "---\n"
      ]
    },
    {
      "cell_type": "markdown",
      "metadata": {
        "id": "LgMe0LJiPN_m"
      },
      "source": [
        "## 🎯 Learning Goals\n",
        "- Organize business logic into modules\n",
        "- Import functions/classes from modules\n",
        "- Understand `if __name__ == \"__main__\"` guards\n",
        "- Appreciate maintainability and scaling via modular design\n",
        "\n",
        "---\n"
      ]
    },
    {
      "cell_type": "markdown",
      "metadata": {
        "id": "zK1YhP9TPN_m"
      },
      "source": [
        "## 🧩 Part 1: Creating a Simple Module\n",
        "We'll sketch a module `analytics_utils.py` with reusable functions.\n"
      ]
    },
    {
      "cell_type": "code",
      "execution_count": 1,
      "metadata": {
        "colab": {
          "base_uri": "https://localhost:8080/"
        },
        "id": "CpdLEDWwPN_m",
        "outputId": "7284f166-56bd-4367-a161-8df185b41645"
      },
      "outputs": [
        {
          "output_type": "stream",
          "name": "stdout",
          "text": [
            "Writing analytics_utils.py\n"
          ]
        }
      ],
      "source": [
        "%%writefile analytics_utils.py\n",
        "def summarize_sales(sales):\n",
        "    total = sum(sales)\n",
        "    avg = round(total / len(sales), 2) if sales else 0\n",
        "    return {\"total\": total, \"average\": avg}\n",
        "\n",
        "def apply_tax(amount, rate=0.0625):\n",
        "    return round(amount * (1 + rate), 2)\n"
      ]
    },
    {
      "cell_type": "markdown",
      "metadata": {
        "id": "lScYQK0RPN_m"
      },
      "source": [
        "## 🧪 Part 2: Import and Use the Module\n"
      ]
    },
    {
      "cell_type": "code",
      "execution_count": null,
      "metadata": {
        "id": "M1_6whFRPN_m",
        "outputId": "2af12599-bbc7-4989-9123-48559e9c9f6d"
      },
      "outputs": [
        {
          "data": {
            "text/plain": [
              "({'total': 363, 'average': 121.0}, 106.25)"
            ]
          },
          "execution_count": 4,
          "metadata": {},
          "output_type": "execute_result"
        }
      ],
      "source": [
        "# Live Code: Import usage (skeleton)\n",
        "\n",
        "from analytics_utils import summarize_sales, apply_tax\n",
        "sales = [120, 98, 145]\n",
        "\n",
        "summary = summarize_sales(sales)\n",
        "taxed = apply_tax(100)\n",
        "summary, taxed\n"
      ]
    },
    {
      "cell_type": "code",
      "source": [
        "import analytics_utils\n",
        "analytics_utils.apply_tax(100)"
      ],
      "metadata": {
        "colab": {
          "base_uri": "https://localhost:8080/"
        },
        "id": "M0MUd95_SHgw",
        "outputId": "19379e89-0e51-404a-8b11-3e4c9dd82855"
      },
      "execution_count": 2,
      "outputs": [
        {
          "output_type": "execute_result",
          "data": {
            "text/plain": [
              "106.25"
            ]
          },
          "metadata": {},
          "execution_count": 2
        }
      ]
    },
    {
      "cell_type": "code",
      "source": [
        "import analytics_utils as au\n",
        "au.apply_tax(100)"
      ],
      "metadata": {
        "colab": {
          "base_uri": "https://localhost:8080/"
        },
        "id": "Yuqia_BCSTwK",
        "outputId": "a479f92e-74b3-48d6-e8fc-0a75e0044a8d"
      },
      "execution_count": 5,
      "outputs": [
        {
          "output_type": "execute_result",
          "data": {
            "text/plain": [
              "106.25"
            ]
          },
          "metadata": {},
          "execution_count": 5
        }
      ]
    },
    {
      "cell_type": "code",
      "source": [
        "from analytics_utils import *\n",
        "apply_tax(100)"
      ],
      "metadata": {
        "colab": {
          "base_uri": "https://localhost:8080/"
        },
        "id": "m0Ob7nW5SeE0",
        "outputId": "ad698a11-5d56-47a3-cdd6-3c601e6f1107"
      },
      "execution_count": 6,
      "outputs": [
        {
          "output_type": "execute_result",
          "data": {
            "text/plain": [
              "106.25"
            ]
          },
          "metadata": {},
          "execution_count": 6
        }
      ]
    },
    {
      "cell_type": "code",
      "source": [
        "from analytics_utils import summarize_sales, apply_tax\n",
        "sales=[120,98,145]\n",
        "\n",
        "summary = summarize_sales(sales)\n",
        "taxed = apply_tax(100)\n",
        "summary, taxed"
      ],
      "metadata": {
        "colab": {
          "base_uri": "https://localhost:8080/"
        },
        "id": "jBasLXKfSzA2",
        "outputId": "bf40cd5b-cbc0-4d02-99cc-c10c982b60ef"
      },
      "execution_count": 7,
      "outputs": [
        {
          "output_type": "execute_result",
          "data": {
            "text/plain": [
              "({'total': 363, 'average': 121.0}, 106.25)"
            ]
          },
          "metadata": {},
          "execution_count": 7
        }
      ]
    }
  ],
  "metadata": {
    "kernelspec": {
      "display_name": "py_latest",
      "language": "python",
      "name": "python3"
    },
    "language_info": {
      "codemirror_mode": {
        "name": "ipython",
        "version": 3
      },
      "file_extension": ".py",
      "mimetype": "text/x-python",
      "name": "python",
      "nbconvert_exporter": "python",
      "pygments_lexer": "ipython3",
      "version": "3.13.2"
    },
    "colab": {
      "provenance": []
    }
  },
  "nbformat": 4,
  "nbformat_minor": 0
}