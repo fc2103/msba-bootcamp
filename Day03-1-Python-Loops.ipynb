{
  "cells": [
    {
      "cell_type": "markdown",
      "metadata": {
        "id": "YbI4-yMqtZGc"
      },
      "source": [
        "# Day 3: Python Loops\n",
        "## Lecture Notebook\n",
        "\n",
        "This notebook is for live coding on loops. We'll iterate with `for` and `while`, compare when to use each, and practice common patterns.\n",
        "\n",
        "---\n"
      ]
    },
    {
      "cell_type": "markdown",
      "metadata": {
        "id": "n6JpP0j9tZGe"
      },
      "source": [
        "## 🎯 Goals for This Session\n",
        "- Iterate lists and ranges with `for`\n",
        "- Control repetition and termination with `while`\n",
        "- Choose the right loop for the job\n",
        "\n",
        "---\n"
      ]
    },
    {
      "cell_type": "markdown",
      "metadata": {
        "id": "XDgthOsItZGe"
      },
      "source": [
        "## 🔁 Part 1: For Loops\n",
        "\n",
        "### Demo 1.1: Iterating Over a List\n",
        "Iterate over `orders = [45, 120, 75, 200, 95]` and compute total and count of orders >= 100.\n"
      ]
    },
    {
      "cell_type": "code",
      "execution_count": null,
      "metadata": {
        "id": "ikjzDvU5tZGe"
      },
      "outputs": [],
      "source": [
        "# Live Code: For Loop over list\n",
        "\n",
        "# orders = [45, 120, 75, 200, 95]\n",
        "# total = 0\n",
        "# high_count = 0\n",
        "# for ...:\n",
        "#     ...\n",
        "# print(total, high_count)\n",
        "\n"
      ]
    },
    {
      "cell_type": "markdown",
      "metadata": {
        "id": "dlGaRSxjtZGf"
      },
      "source": [
        "### Demo 1.2: Range and Index\n",
        "Use `range` to iterate indexes for `names = [\"Ava\", \"Ben\", \"Cara\"]` and print index → name.\n"
      ]
    },
    {
      "cell_type": "code",
      "execution_count": 3,
      "metadata": {
        "colab": {
          "base_uri": "https://localhost:8080/",
          "height": 108
        },
        "id": "mq3ivY3LtZGf",
        "outputId": "e802a85c-ec52-4f26-86d8-64d6b7c61955"
      },
      "outputs": [
        {
          "output_type": "error",
          "ename": "IndentationError",
          "evalue": "unexpected indent (ipython-input-334711325.py, line 4)",
          "traceback": [
            "\u001b[0;36m  File \u001b[0;32m\"/tmp/ipython-input-334711325.py\"\u001b[0;36m, line \u001b[0;32m4\u001b[0m\n\u001b[0;31m    for i in range(len(names)):\u001b[0m\n\u001b[0m    ^\u001b[0m\n\u001b[0;31mIndentationError\u001b[0m\u001b[0;31m:\u001b[0m unexpected indent\n"
          ]
        }
      ],
      "source": [
        "# Live Code: range indices\n",
        "\n",
        "names = [\"Ava\", \"Ben\", \"Cara\"]\n",
        "    for i in range(len(names)):\n",
        "print(i, names[i])\n",
        "\n"
      ]
    },
    {
      "cell_type": "markdown",
      "metadata": {
        "id": "7aEgEWK2tZGf"
      },
      "source": [
        "## 🔄 Part 2: While Loops\n",
        "\n",
        "### Demo 2.1: Counter with Condition\n",
        "Increment a counter until it reaches a limit; print steps.\n"
      ]
    },
    {
      "cell_type": "code",
      "execution_count": 10,
      "metadata": {
        "collapsed": true,
        "colab": {
          "base_uri": "https://localhost:8080/"
        },
        "id": "LQmb-Z-wtZGf",
        "outputId": "ac638496-bc38-4181-e5ef-1f53bd290626"
      },
      "outputs": [
        {
          "output_type": "stream",
          "name": "stdout",
          "text": [
            "0\n",
            "1\n",
            "2\n",
            "3\n",
            "4\n"
          ]
        }
      ],
      "source": [
        "# Live Code: while loop counter\n",
        "\n",
        "count = 0\n",
        "limit = 5\n",
        "while count < limit:\n",
        "    print(count)\n",
        "    count +=1\n"
      ]
    },
    {
      "cell_type": "markdown",
      "metadata": {
        "id": "gnfJjsHPtZGf"
      },
      "source": [
        "### Demo 2.2: Input Simulation with Sentinel\n",
        "Simulate reading values until `None` is encountered, then stop."
      ]
    },
    {
      "cell_type": "code",
      "execution_count": null,
      "metadata": {
        "id": "bFeTyLHPtZGf"
      },
      "outputs": [],
      "source": [
        "# Live Code: sentinel loop\n",
        "\n",
        "# values = [10, 20, None, 30]\n",
        "# i = 0\n",
        "# while i < len(values) and values[i] is not None:\n",
        "#     ...\n",
        "#     i += 1\n",
        "\n"
      ]
    },
    {
      "cell_type": "markdown",
      "metadata": {
        "id": "22-1c8iItZGg"
      },
      "source": [
        "## 🧪 Part 3: Filtering/Mapping and Flow Control\n",
        "\n",
        "### Demo 3.1: Filtering and Mapping\n",
        "Use a loop to filter and then map values in a single pass.\n"
      ]
    },
    {
      "cell_type": "markdown",
      "source": [],
      "metadata": {
        "id": "I68bi7V1viKZ"
      }
    },
    {
      "cell_type": "code",
      "execution_count": 12,
      "metadata": {
        "colab": {
          "base_uri": "https://localhost:8080/"
        },
        "id": "YirC6Wy4tZGg",
        "outputId": "f716aa26-f150-4161-a07e-2c7fb7234024"
      },
      "outputs": [
        {
          "output_type": "stream",
          "name": "stdout",
          "text": [
            "[25.0, 120.0, 49.99]\n",
            "[10.614375, 26.5625, 4.78125, 127.5, 53.114375]\n"
          ]
        }
      ],
      "source": [
        "# Live Code: Filtering and Mapping\n",
        "\n",
        "prices = [9.99, 25.00, 4.50, 120.00, 49.99]\n",
        "filtered = []  # keep prices >= 20\n",
        "with_tax = []  # map to price * 1.0825 (example tax)\n",
        "\n",
        "for price in prices:\n",
        "  if price>=20:\n",
        "      filtered.append(price)\n",
        "  with_tax.append(price*1.0625)\n",
        "print(filtered)\n",
        "print(with_tax)"
      ]
    },
    {
      "cell_type": "markdown",
      "metadata": {
        "id": "ih0aAyR2tZGg"
      },
      "source": [
        "Now let's write a list comprehension that returns a list of prices (with tax) for items >=$20:"
      ]
    },
    {
      "cell_type": "code",
      "execution_count": 15,
      "metadata": {
        "id": "0BcHMlontZGg"
      },
      "outputs": [],
      "source": [
        "# Live Code: Filtering and Mapping\n",
        "expensive_items_w_tax=[round(price*1.0625, 2) for price in prices if price >= 20]\n"
      ]
    },
    {
      "cell_type": "markdown",
      "metadata": {
        "id": "aIzTsLpItZGg"
      },
      "source": [
        "### Demo 3.2: Early Exit and Skips\n",
        "Demonstrating `break` to stop early and `continue` to skip items."
      ]
    },
    {
      "cell_type": "code",
      "execution_count": 30,
      "metadata": {
        "colab": {
          "base_uri": "https://localhost:8080/",
          "height": 108
        },
        "id": "0f1YGZE9tZGg",
        "outputId": "b6c64f4c-dab5-48ee-bef5-d88d9c881468"
      },
      "outputs": [
        {
          "output_type": "error",
          "ename": "IndentationError",
          "evalue": "unexpected indent (ipython-input-596209749.py, line 12)",
          "traceback": [
            "\u001b[0;36m  File \u001b[0;32m\"/tmp/ipython-input-596209749.py\"\u001b[0;36m, line \u001b[0;32m12\u001b[0m\n\u001b[0;31m    total += n\u001b[0m\n\u001b[0m    ^\u001b[0m\n\u001b[0;31mIndentationError\u001b[0m\u001b[0;31m:\u001b[0m unexpected indent\n"
          ]
        }
      ],
      "source": [
        "# Live Code: break and continue\n",
        "\n",
        "numbers = [3, 7, -1, 10, 0, 5]\n",
        "total = 0\n",
        "for n in numbers:\n",
        "#     if n < 0:\n",
        "#         break  # early exit on invalid value\n",
        "     if n < 0:\n",
        "      print(f\"\\n WARNING:::: Transaction with value{n} is being skipped!\\n\")\n",
        "      continue  # skip negative\n",
        "print(f\"Total before the current transaction: {total} (current transaction: {n})\")\n",
        "     total += n\n",
        "print(total)\n"
      ]
    }
  ],
  "metadata": {
    "language_info": {
      "name": "python"
    },
    "colab": {
      "provenance": []
    },
    "kernelspec": {
      "name": "python3",
      "display_name": "Python 3"
    }
  },
  "nbformat": 4,
  "nbformat_minor": 0
}