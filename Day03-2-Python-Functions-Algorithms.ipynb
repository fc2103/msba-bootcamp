{
  "cells": [
    {
      "cell_type": "markdown",
      "metadata": {
        "id": "-PuQeFvnwc2w"
      },
      "source": [
        "# Day 3: Functions & Basic Algorithms\n",
        "## Lecture Notebook\n",
        "\n",
        "This notebook is for live coding on functions and basic algorithms (searching and simple aggregations).\n",
        "\n",
        "---\n"
      ]
    },
    {
      "cell_type": "markdown",
      "metadata": {
        "id": "Hcw8ec_swc2x"
      },
      "source": [
        "## 🎯 Goals for This Session\n",
        "- Define and call functions with parameters and return values\n",
        "- Compose functions for clarity and reuse\n",
        "- Implement linear search and manual max\n",
        "\n",
        "---\n"
      ]
    },
    {
      "cell_type": "markdown",
      "metadata": {
        "id": "sGuWWQ1swc2x"
      },
      "source": [
        "## 🧩 Part 1: Functions\n",
        "\n",
        "### Demo 1.1: Summary Function\n",
        "Write `summarize(numbers)` that returns `(count, total, mean)` for list objects.\n"
      ]
    },
    {
      "cell_type": "code",
      "execution_count": null,
      "metadata": {
        "id": "SW2erT5zwc2x"
      },
      "outputs": [],
      "source": [
        "# Live Code: summarize\n",
        "\n",
        "# def summarize(numbers):\n",
        "#     ...\n",
        "# return count, total, mean\n",
        "\n"
      ]
    },
    {
      "cell_type": "markdown",
      "metadata": {
        "id": "yRP1chBuwc2x"
      },
      "source": [
        "### Demo 1.2: Parameters and Defaults\n",
        "Write `apply_tax(amount, rate=0.0625)` returning the rounded total.\n"
      ]
    },
    {
      "cell_type": "code",
      "execution_count": null,
      "metadata": {
        "id": "XTT7enhOwc2x"
      },
      "outputs": [],
      "source": [
        "# Live Code: apply_tax\n",
        "\n",
        "# def apply_tax(amount, rate=0.0625):\n",
        "#     ...\n",
        "# return round(total, 2)\n",
        "\n"
      ]
    },
    {
      "cell_type": "markdown",
      "metadata": {
        "id": "zgVqwyiywc2x"
      },
      "source": [
        "## 🔍 Part 2: Basic Algorithms\n",
        "\n",
        "### Demo 2.1: Linear Search\n",
        "Implement `find_index(items, target)` to return the first index or `-1`."
      ]
    },
    {
      "cell_type": "code",
      "execution_count": null,
      "metadata": {
        "id": "Ql26cffpwc2y"
      },
      "outputs": [],
      "source": [
        "# Live Code: find_index\n",
        "\n",
        "# def find_index(items, target):\n",
        "#     ...\n",
        "# return -1\n",
        "\n"
      ]
    },
    {
      "cell_type": "markdown",
      "metadata": {
        "id": "RE6VhCpQwc2y"
      },
      "source": [
        "### Demo 2.2: Simple Sort\n",
        "Here’s a bare-bones outline of selection sort. Convert it into a function to sort lists:\n",
        "\n",
        "1. Start at the first position in the list.\n",
        "2. Find the smallest value in the remaining unsorted part of the list.\n",
        "3. Swap it with the value at the current position.\n",
        "4. Move to the next position and repeat steps 2–3 until the whole list is sorted.\n"
      ]
    },
    {
      "cell_type": "code",
      "execution_count": 39,
      "metadata": {
        "collapsed": true,
        "id": "TPQtqIiXwc2y",
        "outputId": "4efa7af2-2cb9-4663-a0bb-578db0ba71ee",
        "colab": {
          "base_uri": "https://localhost:8080/",
          "height": 144
        }
      },
      "outputs": [
        {
          "output_type": "error",
          "ename": "SyntaxError",
          "evalue": "closing parenthesis ']' does not match opening parenthesis '(' (ipython-input-1477915229.py, line 28)",
          "traceback": [
            "\u001b[0;36m  File \u001b[0;32m\"/tmp/ipython-input-1477915229.py\"\u001b[0;36m, line \u001b[0;32m28\u001b[0m\n\u001b[0;31m    print(f\"Updating the list (1={i}) & min_index={min_index}) - swapping lst[i]={lst[i] with lst[min_index]={lst[min_index]}\"]\u001b[0m\n\u001b[0m                                                                                                                              ^\u001b[0m\n\u001b[0;31mSyntaxError\u001b[0m\u001b[0;31m:\u001b[0m closing parenthesis ']' does not match opening parenthesis '('\n"
          ]
        }
      ],
      "source": [
        "# Live Code: selection sort\n",
        "\n",
        "def selection_sort(lst):\n",
        "#     ...\n",
        "(just the notes for class below):\n",
        "\n",
        "1.\n",
        "lst = [3,2,1,5,7,9,6]\n",
        "for i in range(len(lst)):\n",
        "    min_index = i\n",
        "    for j in range(i+1, len(lst)):\n",
        "        if lst[j] < lst(min_index):\n",
        "            min_index = j\n",
        "    lst[i], lst[min_index] = lst[min_index], lst[i]\n",
        "\n",
        "lst\n",
        "\n",
        "\n",
        "2.\n",
        "lst=[3,2,1]\n",
        "for i in range(len(lst)):\n",
        "    min_index=i\n",
        "    for j in range(i+1,len(lst)):\n",
        "        if lst[j] < lst(min_index):\n",
        "        print(f\"Min index update: i={i} & j={j}\")\n",
        "        min_index = j\n",
        "    if i !=min_index:\n",
        "      print(f\"Updating the list (1={i}) & min_index={min_index}) - swapping lst[i]={lst[i] with lst[min_index]={lst[min_index]}\"]\n",
        "      lst[i], lst[min_index] = lst[min_index], lst[i]\n",
        "\n"
      ]
    },
    {
      "cell_type": "code",
      "source": [
        "def selection_sort(lst):\n",
        "    for i in range(len(lst)):\n",
        "    min_index = i\n",
        "    for j in range(i+1, len(lst)):\n",
        "        if lst[j] < lst(min_index):\n",
        "            min_index = j\n",
        "\n",
        "    lst[i], lst[min_index] = lst[min_index], lst[i]\n",
        "\n",
        "    return lst\n",
        "\n"
      ],
      "metadata": {
        "collapsed": true,
        "id": "---pLvij2iNh",
        "outputId": "6901b2aa-ad2c-414e-fb17-76aef36b067e",
        "colab": {
          "base_uri": "https://localhost:8080/",
          "height": 108
        }
      },
      "execution_count": 21,
      "outputs": [
        {
          "output_type": "error",
          "ename": "IndentationError",
          "evalue": "expected an indented block after 'for' statement on line 2 (ipython-input-829478581.py, line 3)",
          "traceback": [
            "\u001b[0;36m  File \u001b[0;32m\"/tmp/ipython-input-829478581.py\"\u001b[0;36m, line \u001b[0;32m3\u001b[0m\n\u001b[0;31m    min_index = i\u001b[0m\n\u001b[0m    ^\u001b[0m\n\u001b[0;31mIndentationError\u001b[0m\u001b[0;31m:\u001b[0m expected an indented block after 'for' statement on line 2\n"
          ]
        }
      ]
    },
    {
      "cell_type": "code",
      "source": [
        "lst123=[4,3,1,2]\n",
        "selection_sort(lst123)\n"
      ],
      "metadata": {
        "id": "QsHOxlMt3nbg"
      },
      "execution_count": 38,
      "outputs": []
    },
    {
      "cell_type": "markdown",
      "metadata": {
        "id": "0Cf-TvTQwc2y"
      },
      "source": [
        "### Demo 2.3: Running Total (Cumulative Sum)\n",
        "Write a function `running_total(numbers)` that returns a new list where each element is the cumulative sum up to that position."
      ]
    },
    {
      "cell_type": "code",
      "execution_count": 37,
      "metadata": {
        "id": "S7GIf3cOwc2y",
        "outputId": "d87674ab-c542-41e0-8928-8e09a1aa6f0c",
        "colab": {
          "base_uri": "https://localhost:8080/",
          "height": 108
        }
      },
      "outputs": [
        {
          "output_type": "error",
          "ename": "IndentationError",
          "evalue": "unindent does not match any outer indentation level (<tokenize>, line 14)",
          "traceback": [
            "\u001b[0;36m  File \u001b[0;32m\"<tokenize>\"\u001b[0;36m, line \u001b[0;32m14\u001b[0m\n\u001b[0;31m    print(running_total)\u001b[0m\n\u001b[0m    ^\u001b[0m\n\u001b[0;31mIndentationError\u001b[0m\u001b[0;31m:\u001b[0m unindent does not match any outer indentation level\n"
          ]
        }
      ],
      "source": [
        "# Live Code: running_total\n",
        "\n",
        "# def running_total(numbers):\n",
        "#     ...\n",
        "# return result\n",
        "\n",
        "def running_total(numbers):\n",
        "  result = []\n",
        "  running = 0\n",
        "  for n in numbers:\n",
        "      running += n\n",
        "      result.append(running)\n",
        "  return result\n",
        " print(running_total)\n",
        "\n",
        "\n"
      ]
    },
    {
      "cell_type": "markdown",
      "metadata": {
        "id": "4F3MoxVFwc2y"
      },
      "source": [
        "### Demo 2.4: Order-Preserving Dedup\n",
        "Write a function `dedup_preserve(items)` that removes duplicates while keeping the first occurrence and preserving original order.\n"
      ]
    },
    {
      "cell_type": "code",
      "execution_count": 41,
      "metadata": {
        "id": "cn4nyi2Twc2y",
        "outputId": "56658601-6258-44d7-8825-e6ad92a42d33",
        "colab": {
          "base_uri": "https://localhost:8080/"
        }
      },
      "outputs": [
        {
          "output_type": "stream",
          "name": "stdout",
          "text": [
            "['a', 'b', 'c']\n"
          ]
        }
      ],
      "source": [
        "# Live Code: dedup_preserve\n",
        "\n",
        "# def dedup_preserve(items):\n",
        "#     ...\n",
        "# return unique_items\n",
        "\n",
        "def dedup_preserve(items):\n",
        "    seen = set()\n",
        "    unique = []\n",
        "    for x in items:\n",
        "        if x not in seen:\n",
        "            unique.append(x)\n",
        "            seen.add(x)\n",
        "    return unique\n",
        "\n",
        "print(dedup_preserve([\"a\",\"b\",\"a\",\"c\",\"b\"]))\n"
      ]
    },
    {
      "cell_type": "markdown",
      "metadata": {
        "id": "OJQGHNm5wc2y"
      },
      "source": [
        "### Demo 2.5\n",
        "Add a docstring for the function you wrote in 2.4"
      ]
    },
    {
      "cell_type": "code",
      "execution_count": null,
      "metadata": {
        "id": "SxDEVXJ9wc2y"
      },
      "outputs": [],
      "source": [
        "# Live Code: dedup_preserve with docstring\n",
        "\n",
        "# def dedup_preserve(items):\n",
        "# \"\"\"\n",
        "# ...\n",
        "# \"\"\"\n",
        "# return unique_items"
      ]
    }
  ],
  "metadata": {
    "kernelspec": {
      "display_name": "py_latest",
      "language": "python",
      "name": "python3"
    },
    "language_info": {
      "codemirror_mode": {
        "name": "ipython",
        "version": 3
      },
      "file_extension": ".py",
      "mimetype": "text/x-python",
      "name": "python",
      "nbconvert_exporter": "python",
      "pygments_lexer": "ipython3",
      "version": "3.13.2"
    },
    "colab": {
      "provenance": []
    }
  },
  "nbformat": 4,
  "nbformat_minor": 0
}